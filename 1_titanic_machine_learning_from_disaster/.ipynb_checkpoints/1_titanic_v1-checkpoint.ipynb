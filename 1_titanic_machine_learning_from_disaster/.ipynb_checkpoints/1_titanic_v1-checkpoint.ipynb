{
 "cells": [
  {
   "cell_type": "code",
   "execution_count": 1,
   "metadata": {},
   "outputs": [],
   "source": [
    "import numpy as np #linear algebra\n",
    "import pandas as pd # data processing, CSV file I/O\n",
    "pd.set_option('display.max_columns', None)\n",
    "\n",
    "import warnings\n",
    "warnings.filterwarnings('ignore')\n",
    "\n",
    "import seaborn as sns\n",
    "import matplotlib.pyplot as plt\n",
    "\n",
    "from sklearn import preprocessing\n",
    "from sklearn.model_selection import train_test_split\n",
    "from sklearn.ensemble import RandomForestClassifier\n",
    "from sklearn.tree import DecisionTreeClassifier"
   ]
  },
  {
   "cell_type": "code",
   "execution_count": 2,
   "metadata": {},
   "outputs": [
    {
     "name": "stdout",
     "output_type": "stream",
     "text": [
      "gender_submission.csv\n",
      "my_submission_decision_tree_classifier.csv\n",
      "my_submission_random_forrest_classifier.csv\n",
      "my_submission_tutorial.csv\n",
      "test.csv\n",
      "train.csv\n"
     ]
    }
   ],
   "source": [
    "import sys, os\n",
    "for dirname, _, filenames in os.walk(sys.path[0]+'\\datasets'):\n",
    "    for filename in filenames:\n",
    "        print(filename)"
   ]
  },
  {
   "cell_type": "markdown",
   "metadata": {},
   "source": [
    "### Data handling\n",
    "*Train data*"
   ]
  },
  {
   "cell_type": "code",
   "execution_count": 3,
   "metadata": {},
   "outputs": [],
   "source": [
    "def titanic_feature_engineering(data,encoding = True, le_sex = [], le_embarked =[]):\n",
    "    data = data.drop('PassengerId',axis=1)\n",
    "    data = data.drop('Name',axis=1)\n",
    "    data = data.drop('Ticket',axis=1)\n",
    "    data = data.drop('Cabin',axis=1)\n",
    "\n",
    "    data['Family'] = data['SibSp'] + data['Parch'] + 1\n",
    "    data['Alone'] = np.where(data['Family']<2, 1, 0)\n",
    "    \n",
    "    data[\"Fare\"] = data['Fare'].fillna(data['Fare'].notna().mean())\n",
    "    data['Fare_per_person'] = data['Fare']/data['Family']\n",
    "    data['Fare_per_person_class'] = (data['Fare_per_person']/5).astype(int)\n",
    "    data.loc[data['Fare_per_person_class']>6,'Fare_per_person_class'] = 6\n",
    "    \n",
    "    data[\"Age\"] = data['Age'].fillna(data['Age'].notna().mean())\n",
    "    data[\"Age_class\"] = (data['Age']/5).astype(int)\n",
    "    \n",
    "    data[\"Embarked\"] = data['Embarked'].fillna('NAN')\n",
    "    if encoding == True:\n",
    "        le_embarked = preprocessing.LabelEncoder()\n",
    "        le_embarked.fit(data.Embarked.unique())\n",
    "        le_sex = preprocessing.LabelEncoder()\n",
    "        le_sex.fit(data.Sex.unique())\n",
    "    data[\"Embarked\"] = le_embarked.transform(data[\"Embarked\"].values)\n",
    "    data[\"Sex\"] = le_sex.transform(data[\"Sex\"].values)\n",
    "    \n",
    "    return data, le_sex, le_embarked        "
   ]
  },
  {
   "cell_type": "code",
   "execution_count": 4,
   "metadata": {},
   "outputs": [],
   "source": [
    "train_data = pd.read_csv(sys.path[0]+'\\datasets\\\\train.csv')\n",
    "train_data_featured, le_sex, le_embarked = titanic_feature_engineering(train_data)"
   ]
  },
  {
   "cell_type": "code",
   "execution_count": 5,
   "metadata": {},
   "outputs": [
    {
     "data": {
      "text/html": [
       "<div>\n",
       "<style scoped>\n",
       "    .dataframe tbody tr th:only-of-type {\n",
       "        vertical-align: middle;\n",
       "    }\n",
       "\n",
       "    .dataframe tbody tr th {\n",
       "        vertical-align: top;\n",
       "    }\n",
       "\n",
       "    .dataframe thead th {\n",
       "        text-align: right;\n",
       "    }\n",
       "</style>\n",
       "<table border=\"1\" class=\"dataframe\">\n",
       "  <thead>\n",
       "    <tr style=\"text-align: right;\">\n",
       "      <th></th>\n",
       "      <th>Survived</th>\n",
       "      <th>Pclass</th>\n",
       "      <th>Sex</th>\n",
       "      <th>Age</th>\n",
       "      <th>SibSp</th>\n",
       "      <th>Parch</th>\n",
       "      <th>Fare</th>\n",
       "      <th>Embarked</th>\n",
       "      <th>Family</th>\n",
       "      <th>Alone</th>\n",
       "      <th>Fare_per_person</th>\n",
       "      <th>Fare_per_person_class</th>\n",
       "      <th>Age_class</th>\n",
       "    </tr>\n",
       "  </thead>\n",
       "  <tbody>\n",
       "    <tr>\n",
       "      <th>0</th>\n",
       "      <td>0</td>\n",
       "      <td>3</td>\n",
       "      <td>1</td>\n",
       "      <td>22.000000</td>\n",
       "      <td>1</td>\n",
       "      <td>0</td>\n",
       "      <td>7.2500</td>\n",
       "      <td>3</td>\n",
       "      <td>2</td>\n",
       "      <td>0</td>\n",
       "      <td>3.62500</td>\n",
       "      <td>0</td>\n",
       "      <td>4</td>\n",
       "    </tr>\n",
       "    <tr>\n",
       "      <th>1</th>\n",
       "      <td>1</td>\n",
       "      <td>1</td>\n",
       "      <td>0</td>\n",
       "      <td>38.000000</td>\n",
       "      <td>1</td>\n",
       "      <td>0</td>\n",
       "      <td>71.2833</td>\n",
       "      <td>0</td>\n",
       "      <td>2</td>\n",
       "      <td>0</td>\n",
       "      <td>35.64165</td>\n",
       "      <td>6</td>\n",
       "      <td>7</td>\n",
       "    </tr>\n",
       "    <tr>\n",
       "      <th>2</th>\n",
       "      <td>1</td>\n",
       "      <td>3</td>\n",
       "      <td>0</td>\n",
       "      <td>26.000000</td>\n",
       "      <td>0</td>\n",
       "      <td>0</td>\n",
       "      <td>7.9250</td>\n",
       "      <td>3</td>\n",
       "      <td>1</td>\n",
       "      <td>1</td>\n",
       "      <td>7.92500</td>\n",
       "      <td>1</td>\n",
       "      <td>5</td>\n",
       "    </tr>\n",
       "    <tr>\n",
       "      <th>3</th>\n",
       "      <td>1</td>\n",
       "      <td>1</td>\n",
       "      <td>0</td>\n",
       "      <td>35.000000</td>\n",
       "      <td>1</td>\n",
       "      <td>0</td>\n",
       "      <td>53.1000</td>\n",
       "      <td>3</td>\n",
       "      <td>2</td>\n",
       "      <td>0</td>\n",
       "      <td>26.55000</td>\n",
       "      <td>5</td>\n",
       "      <td>7</td>\n",
       "    </tr>\n",
       "    <tr>\n",
       "      <th>4</th>\n",
       "      <td>0</td>\n",
       "      <td>3</td>\n",
       "      <td>1</td>\n",
       "      <td>35.000000</td>\n",
       "      <td>0</td>\n",
       "      <td>0</td>\n",
       "      <td>8.0500</td>\n",
       "      <td>3</td>\n",
       "      <td>1</td>\n",
       "      <td>1</td>\n",
       "      <td>8.05000</td>\n",
       "      <td>1</td>\n",
       "      <td>7</td>\n",
       "    </tr>\n",
       "    <tr>\n",
       "      <th>5</th>\n",
       "      <td>0</td>\n",
       "      <td>3</td>\n",
       "      <td>1</td>\n",
       "      <td>0.801347</td>\n",
       "      <td>0</td>\n",
       "      <td>0</td>\n",
       "      <td>8.4583</td>\n",
       "      <td>2</td>\n",
       "      <td>1</td>\n",
       "      <td>1</td>\n",
       "      <td>8.45830</td>\n",
       "      <td>1</td>\n",
       "      <td>0</td>\n",
       "    </tr>\n",
       "    <tr>\n",
       "      <th>6</th>\n",
       "      <td>0</td>\n",
       "      <td>1</td>\n",
       "      <td>1</td>\n",
       "      <td>54.000000</td>\n",
       "      <td>0</td>\n",
       "      <td>0</td>\n",
       "      <td>51.8625</td>\n",
       "      <td>3</td>\n",
       "      <td>1</td>\n",
       "      <td>1</td>\n",
       "      <td>51.86250</td>\n",
       "      <td>6</td>\n",
       "      <td>10</td>\n",
       "    </tr>\n",
       "    <tr>\n",
       "      <th>7</th>\n",
       "      <td>0</td>\n",
       "      <td>3</td>\n",
       "      <td>1</td>\n",
       "      <td>2.000000</td>\n",
       "      <td>3</td>\n",
       "      <td>1</td>\n",
       "      <td>21.0750</td>\n",
       "      <td>3</td>\n",
       "      <td>5</td>\n",
       "      <td>0</td>\n",
       "      <td>4.21500</td>\n",
       "      <td>0</td>\n",
       "      <td>0</td>\n",
       "    </tr>\n",
       "    <tr>\n",
       "      <th>8</th>\n",
       "      <td>1</td>\n",
       "      <td>3</td>\n",
       "      <td>0</td>\n",
       "      <td>27.000000</td>\n",
       "      <td>0</td>\n",
       "      <td>2</td>\n",
       "      <td>11.1333</td>\n",
       "      <td>3</td>\n",
       "      <td>3</td>\n",
       "      <td>0</td>\n",
       "      <td>3.71110</td>\n",
       "      <td>0</td>\n",
       "      <td>5</td>\n",
       "    </tr>\n",
       "    <tr>\n",
       "      <th>9</th>\n",
       "      <td>1</td>\n",
       "      <td>2</td>\n",
       "      <td>0</td>\n",
       "      <td>14.000000</td>\n",
       "      <td>1</td>\n",
       "      <td>0</td>\n",
       "      <td>30.0708</td>\n",
       "      <td>0</td>\n",
       "      <td>2</td>\n",
       "      <td>0</td>\n",
       "      <td>15.03540</td>\n",
       "      <td>3</td>\n",
       "      <td>2</td>\n",
       "    </tr>\n",
       "  </tbody>\n",
       "</table>\n",
       "</div>"
      ],
      "text/plain": [
       "   Survived  Pclass  Sex        Age  SibSp  Parch     Fare  Embarked  Family  \\\n",
       "0         0       3    1  22.000000      1      0   7.2500         3       2   \n",
       "1         1       1    0  38.000000      1      0  71.2833         0       2   \n",
       "2         1       3    0  26.000000      0      0   7.9250         3       1   \n",
       "3         1       1    0  35.000000      1      0  53.1000         3       2   \n",
       "4         0       3    1  35.000000      0      0   8.0500         3       1   \n",
       "5         0       3    1   0.801347      0      0   8.4583         2       1   \n",
       "6         0       1    1  54.000000      0      0  51.8625         3       1   \n",
       "7         0       3    1   2.000000      3      1  21.0750         3       5   \n",
       "8         1       3    0  27.000000      0      2  11.1333         3       3   \n",
       "9         1       2    0  14.000000      1      0  30.0708         0       2   \n",
       "\n",
       "   Alone  Fare_per_person  Fare_per_person_class  Age_class  \n",
       "0      0          3.62500                      0          4  \n",
       "1      0         35.64165                      6          7  \n",
       "2      1          7.92500                      1          5  \n",
       "3      0         26.55000                      5          7  \n",
       "4      1          8.05000                      1          7  \n",
       "5      1          8.45830                      1          0  \n",
       "6      1         51.86250                      6         10  \n",
       "7      0          4.21500                      0          0  \n",
       "8      0          3.71110                      0          5  \n",
       "9      0         15.03540                      3          2  "
      ]
     },
     "execution_count": 5,
     "metadata": {},
     "output_type": "execute_result"
    }
   ],
   "source": [
    "train_data_featured.head(10)"
   ]
  },
  {
   "cell_type": "code",
   "execution_count": 6,
   "metadata": {},
   "outputs": [
    {
     "data": {
      "text/plain": [
       "count    891.000000\n",
       "mean       2.271605\n",
       "std        2.051109\n",
       "min        0.000000\n",
       "25%        1.000000\n",
       "50%        1.000000\n",
       "75%        4.000000\n",
       "max        6.000000\n",
       "Name: Fare_per_person_class, dtype: float64"
      ]
     },
     "execution_count": 6,
     "metadata": {},
     "output_type": "execute_result"
    }
   ],
   "source": [
    "train_data_featured[\"Fare_per_person_class\"].describe()"
   ]
  },
  {
   "cell_type": "markdown",
   "metadata": {},
   "source": [
    "*Plotting the data and understanding the correlation*"
   ]
  },
  {
   "cell_type": "code",
   "execution_count": 7,
   "metadata": {},
   "outputs": [
    {
     "data": {
      "text/plain": [
       "<matplotlib.axes._subplots.AxesSubplot at 0x2363039a048>"
      ]
     },
     "execution_count": 7,
     "metadata": {},
     "output_type": "execute_result"
    },
    {
     "data": {
      "image/png": "[encoded data removed]",
      "text/plain": [
       "<Figure size 432x288 with 1 Axes>"
      ]
     },
     "metadata": {
      "needs_background": "light"
     },
     "output_type": "display_data"
    }
   ],
   "source": [
    "sns.barplot(x=\"Pclass\",y=\"Survived\", data=train_data)"
   ]
  },
  {
   "cell_type": "code",
   "execution_count": 8,
   "metadata": {},
   "outputs": [
    {
     "data": {
      "text/plain": [
       "<seaborn.axisgrid.FacetGrid at 0x236325e2508>"
      ]
     },
     "execution_count": 8,
     "metadata": {},
     "output_type": "execute_result"
    },
    {
     "data": {
      "image/png": "[encoded data removed]",
      "text/plain": [
       "<Figure size 432x216 with 2 Axes>"
      ]
     },
     "metadata": {
      "needs_background": "light"
     },
     "output_type": "display_data"
    }
   ],
   "source": [
    "g = sns.FacetGrid(train_data_featured, col='Survived')\n",
    "g.map(plt.hist, 'Age', bins=20)"
   ]
  },
  {
   "cell_type": "code",
   "execution_count": 9,
   "metadata": {},
   "outputs": [
    {
     "data": {
      "image/png": "[encoded data removed]",
      "text/plain": [
       "<Figure size 514.88x475.2 with 6 Axes>"
      ]
     },
     "metadata": {
      "needs_background": "light"
     },
     "output_type": "display_data"
    }
   ],
   "source": [
    "grid = sns.FacetGrid(train_data_featured, col='Survived', row='Pclass', size=2.2, aspect=1.6)\n",
    "grid.map(plt.hist, 'Fare_per_person_class', bins=20).set(xlim=(0, 8))\n",
    "grid.add_legend();"
   ]
  },
  {
   "cell_type": "code",
   "execution_count": 10,
   "metadata": {},
   "outputs": [
    {
     "data": {
      "text/html": [
       "<div>\n",
       "<style scoped>\n",
       "    .dataframe tbody tr th:only-of-type {\n",
       "        vertical-align: middle;\n",
       "    }\n",
       "\n",
       "    .dataframe tbody tr th {\n",
       "        vertical-align: top;\n",
       "    }\n",
       "\n",
       "    .dataframe thead th {\n",
       "        text-align: right;\n",
       "    }\n",
       "</style>\n",
       "<table border=\"1\" class=\"dataframe\">\n",
       "  <thead>\n",
       "    <tr style=\"text-align: right;\">\n",
       "      <th></th>\n",
       "      <th>Survived</th>\n",
       "      <th>Pclass</th>\n",
       "      <th>Sex</th>\n",
       "      <th>Age</th>\n",
       "      <th>SibSp</th>\n",
       "      <th>Parch</th>\n",
       "      <th>Fare</th>\n",
       "      <th>Embarked</th>\n",
       "      <th>Family</th>\n",
       "      <th>Alone</th>\n",
       "      <th>Fare_per_person</th>\n",
       "      <th>Fare_per_person_class</th>\n",
       "      <th>Age_class</th>\n",
       "    </tr>\n",
       "  </thead>\n",
       "  <tbody>\n",
       "    <tr>\n",
       "      <th>Survived</th>\n",
       "      <td>1.000000</td>\n",
       "      <td>-0.338481</td>\n",
       "      <td>-0.543351</td>\n",
       "      <td>0.008972</td>\n",
       "      <td>-0.035322</td>\n",
       "      <td>0.081629</td>\n",
       "      <td>0.257307</td>\n",
       "      <td>-0.174963</td>\n",
       "      <td>0.016639</td>\n",
       "      <td>-0.203367</td>\n",
       "      <td>0.221600</td>\n",
       "      <td>0.296207</td>\n",
       "      <td>0.005829</td>\n",
       "    </tr>\n",
       "    <tr>\n",
       "      <th>Pclass</th>\n",
       "      <td>-0.338481</td>\n",
       "      <td>1.000000</td>\n",
       "      <td>0.131900</td>\n",
       "      <td>-0.362618</td>\n",
       "      <td>0.083081</td>\n",
       "      <td>0.018443</td>\n",
       "      <td>-0.549500</td>\n",
       "      <td>0.197493</td>\n",
       "      <td>0.065997</td>\n",
       "      <td>0.135207</td>\n",
       "      <td>-0.485079</td>\n",
       "      <td>-0.853532</td>\n",
       "      <td>-0.362015</td>\n",
       "    </tr>\n",
       "    <tr>\n",
       "      <th>Sex</th>\n",
       "      <td>-0.543351</td>\n",
       "      <td>0.131900</td>\n",
       "      <td>1.000000</td>\n",
       "      <td>0.026302</td>\n",
       "      <td>-0.114631</td>\n",
       "      <td>-0.245489</td>\n",
       "      <td>-0.182333</td>\n",
       "      <td>0.106395</td>\n",
       "      <td>-0.200988</td>\n",
       "      <td>0.303646</td>\n",
       "      <td>-0.115143</td>\n",
       "      <td>-0.078752</td>\n",
       "      <td>0.030797</td>\n",
       "    </tr>\n",
       "    <tr>\n",
       "      <th>Age</th>\n",
       "      <td>0.008972</td>\n",
       "      <td>-0.362618</td>\n",
       "      <td>0.026302</td>\n",
       "      <td>1.000000</td>\n",
       "      <td>-0.186588</td>\n",
       "      <td>-0.051671</td>\n",
       "      <td>0.135330</td>\n",
       "      <td>0.048773</td>\n",
       "      <td>-0.153340</td>\n",
       "      <td>0.034045</td>\n",
       "      <td>0.142637</td>\n",
       "      <td>0.311238</td>\n",
       "      <td>0.996837</td>\n",
       "    </tr>\n",
       "    <tr>\n",
       "      <th>SibSp</th>\n",
       "      <td>-0.035322</td>\n",
       "      <td>0.083081</td>\n",
       "      <td>-0.114631</td>\n",
       "      <td>-0.186588</td>\n",
       "      <td>1.000000</td>\n",
       "      <td>0.414838</td>\n",
       "      <td>0.159651</td>\n",
       "      <td>0.068043</td>\n",
       "      <td>0.890712</td>\n",
       "      <td>-0.584471</td>\n",
       "      <td>-0.094682</td>\n",
       "      <td>-0.121988</td>\n",
       "      <td>-0.192279</td>\n",
       "    </tr>\n",
       "    <tr>\n",
       "      <th>Parch</th>\n",
       "      <td>0.081629</td>\n",
       "      <td>0.018443</td>\n",
       "      <td>-0.245489</td>\n",
       "      <td>-0.051671</td>\n",
       "      <td>0.414838</td>\n",
       "      <td>1.000000</td>\n",
       "      <td>0.216225</td>\n",
       "      <td>0.032517</td>\n",
       "      <td>0.783111</td>\n",
       "      <td>-0.583398</td>\n",
       "      <td>-0.068978</td>\n",
       "      <td>-0.111010</td>\n",
       "      <td>-0.062149</td>\n",
       "    </tr>\n",
       "    <tr>\n",
       "      <th>Fare</th>\n",
       "      <td>0.257307</td>\n",
       "      <td>-0.549500</td>\n",
       "      <td>-0.182333</td>\n",
       "      <td>0.135330</td>\n",
       "      <td>0.159651</td>\n",
       "      <td>0.216225</td>\n",
       "      <td>1.000000</td>\n",
       "      <td>-0.246359</td>\n",
       "      <td>0.217138</td>\n",
       "      <td>-0.271832</td>\n",
       "      <td>0.840995</td>\n",
       "      <td>0.625462</td>\n",
       "      <td>0.135138</td>\n",
       "    </tr>\n",
       "    <tr>\n",
       "      <th>Embarked</th>\n",
       "      <td>-0.174963</td>\n",
       "      <td>0.197493</td>\n",
       "      <td>0.106395</td>\n",
       "      <td>0.048773</td>\n",
       "      <td>0.068043</td>\n",
       "      <td>0.032517</td>\n",
       "      <td>-0.246359</td>\n",
       "      <td>1.000000</td>\n",
       "      <td>0.062750</td>\n",
       "      <td>0.071900</td>\n",
       "      <td>-0.256102</td>\n",
       "      <td>-0.253446</td>\n",
       "      <td>0.043182</td>\n",
       "    </tr>\n",
       "    <tr>\n",
       "      <th>Family</th>\n",
       "      <td>0.016639</td>\n",
       "      <td>0.065997</td>\n",
       "      <td>-0.200988</td>\n",
       "      <td>-0.153340</td>\n",
       "      <td>0.890712</td>\n",
       "      <td>0.783111</td>\n",
       "      <td>0.217138</td>\n",
       "      <td>0.062750</td>\n",
       "      <td>1.000000</td>\n",
       "      <td>-0.690922</td>\n",
       "      <td>-0.099173</td>\n",
       "      <td>-0.138834</td>\n",
       "      <td>-0.162465</td>\n",
       "    </tr>\n",
       "    <tr>\n",
       "      <th>Alone</th>\n",
       "      <td>-0.203367</td>\n",
       "      <td>0.135207</td>\n",
       "      <td>0.303646</td>\n",
       "      <td>0.034045</td>\n",
       "      <td>-0.584471</td>\n",
       "      <td>-0.583398</td>\n",
       "      <td>-0.271832</td>\n",
       "      <td>0.071900</td>\n",
       "      <td>-0.690922</td>\n",
       "      <td>1.000000</td>\n",
       "      <td>0.045603</td>\n",
       "      <td>-0.016617</td>\n",
       "      <td>0.044378</td>\n",
       "    </tr>\n",
       "    <tr>\n",
       "      <th>Fare_per_person</th>\n",
       "      <td>0.221600</td>\n",
       "      <td>-0.485079</td>\n",
       "      <td>-0.115143</td>\n",
       "      <td>0.142637</td>\n",
       "      <td>-0.094682</td>\n",
       "      <td>-0.068978</td>\n",
       "      <td>0.840995</td>\n",
       "      <td>-0.256102</td>\n",
       "      <td>-0.099173</td>\n",
       "      <td>0.045603</td>\n",
       "      <td>1.000000</td>\n",
       "      <td>0.585513</td>\n",
       "      <td>0.147380</td>\n",
       "    </tr>\n",
       "    <tr>\n",
       "      <th>Fare_per_person_class</th>\n",
       "      <td>0.296207</td>\n",
       "      <td>-0.853532</td>\n",
       "      <td>-0.078752</td>\n",
       "      <td>0.311238</td>\n",
       "      <td>-0.121988</td>\n",
       "      <td>-0.111010</td>\n",
       "      <td>0.625462</td>\n",
       "      <td>-0.253446</td>\n",
       "      <td>-0.138834</td>\n",
       "      <td>-0.016617</td>\n",
       "      <td>0.585513</td>\n",
       "      <td>1.000000</td>\n",
       "      <td>0.314264</td>\n",
       "    </tr>\n",
       "    <tr>\n",
       "      <th>Age_class</th>\n",
       "      <td>0.005829</td>\n",
       "      <td>-0.362015</td>\n",
       "      <td>0.030797</td>\n",
       "      <td>0.996837</td>\n",
       "      <td>-0.192279</td>\n",
       "      <td>-0.062149</td>\n",
       "      <td>0.135138</td>\n",
       "      <td>0.043182</td>\n",
       "      <td>-0.162465</td>\n",
       "      <td>0.044378</td>\n",
       "      <td>0.147380</td>\n",
       "      <td>0.314264</td>\n",
       "      <td>1.000000</td>\n",
       "    </tr>\n",
       "  </tbody>\n",
       "</table>\n",
       "</div>"
      ],
      "text/plain": [
       "                       Survived    Pclass       Sex       Age     SibSp  \\\n",
       "Survived               1.000000 -0.338481 -0.543351  0.008972 -0.035322   \n",
       "Pclass                -0.338481  1.000000  0.131900 -0.362618  0.083081   \n",
       "Sex                   -0.543351  0.131900  1.000000  0.026302 -0.114631   \n",
       "Age                    0.008972 -0.362618  0.026302  1.000000 -0.186588   \n",
       "SibSp                 -0.035322  0.083081 -0.114631 -0.186588  1.000000   \n",
       "Parch                  0.081629  0.018443 -0.245489 -0.051671  0.414838   \n",
       "Fare                   0.257307 -0.549500 -0.182333  0.135330  0.159651   \n",
       "Embarked              -0.174963  0.197493  0.106395  0.048773  0.068043   \n",
       "Family                 0.016639  0.065997 -0.200988 -0.153340  0.890712   \n",
       "Alone                 -0.203367  0.135207  0.303646  0.034045 -0.584471   \n",
       "Fare_per_person        0.221600 -0.485079 -0.115143  0.142637 -0.094682   \n",
       "Fare_per_person_class  0.296207 -0.853532 -0.078752  0.311238 -0.121988   \n",
       "Age_class              0.005829 -0.362015  0.030797  0.996837 -0.192279   \n",
       "\n",
       "                          Parch      Fare  Embarked    Family     Alone  \\\n",
       "Survived               0.081629  0.257307 -0.174963  0.016639 -0.203367   \n",
       "Pclass                 0.018443 -0.549500  0.197493  0.065997  0.135207   \n",
       "Sex                   -0.245489 -0.182333  0.106395 -0.200988  0.303646   \n",
       "Age                   -0.051671  0.135330  0.048773 -0.153340  0.034045   \n",
       "SibSp                  0.414838  0.159651  0.068043  0.890712 -0.584471   \n",
       "Parch                  1.000000  0.216225  0.032517  0.783111 -0.583398   \n",
       "Fare                   0.216225  1.000000 -0.246359  0.217138 -0.271832   \n",
       "Embarked               0.032517 -0.246359  1.000000  0.062750  0.071900   \n",
       "Family                 0.783111  0.217138  0.062750  1.000000 -0.690922   \n",
       "Alone                 -0.583398 -0.271832  0.071900 -0.690922  1.000000   \n",
       "Fare_per_person       -0.068978  0.840995 -0.256102 -0.099173  0.045603   \n",
       "Fare_per_person_class -0.111010  0.625462 -0.253446 -0.138834 -0.016617   \n",
       "Age_class             -0.062149  0.135138  0.043182 -0.162465  0.044378   \n",
       "\n",
       "                       Fare_per_person  Fare_per_person_class  Age_class  \n",
       "Survived                      0.221600               0.296207   0.005829  \n",
       "Pclass                       -0.485079              -0.853532  -0.362015  \n",
       "Sex                          -0.115143              -0.078752   0.030797  \n",
       "Age                           0.142637               0.311238   0.996837  \n",
       "SibSp                        -0.094682              -0.121988  -0.192279  \n",
       "Parch                        -0.068978              -0.111010  -0.062149  \n",
       "Fare                          0.840995               0.625462   0.135138  \n",
       "Embarked                     -0.256102              -0.253446   0.043182  \n",
       "Family                       -0.099173              -0.138834  -0.162465  \n",
       "Alone                         0.045603              -0.016617   0.044378  \n",
       "Fare_per_person               1.000000               0.585513   0.147380  \n",
       "Fare_per_person_class         0.585513               1.000000   0.314264  \n",
       "Age_class                     0.147380               0.314264   1.000000  "
      ]
     },
     "execution_count": 10,
     "metadata": {},
     "output_type": "execute_result"
    }
   ],
   "source": [
    "(pd.get_dummies(train_data_featured[train_data_featured.columns])).corr()"
   ]
  },
  {
   "cell_type": "markdown",
   "metadata": {},
   "source": [
    "*Test data*"
   ]
  },
  {
   "cell_type": "code",
   "execution_count": 11,
   "metadata": {},
   "outputs": [],
   "source": [
    "test_data = pd.read_csv(sys.path[0]+'\\datasets\\\\test.csv')\n",
    "\n",
    "test_data_featured, _, _ = titanic_feature_engineering(test_data,False, le_sex, le_embarked)"
   ]
  },
  {
   "cell_type": "code",
   "execution_count": 12,
   "metadata": {},
   "outputs": [
    {
     "data": {
      "text/plain": [
       "(418, 11)"
      ]
     },
     "execution_count": 12,
     "metadata": {},
     "output_type": "execute_result"
    }
   ],
   "source": [
    "test_data.shape"
   ]
  },
  {
   "cell_type": "code",
   "execution_count": 13,
   "metadata": {},
   "outputs": [],
   "source": [
    "Y_train = pd.DataFrame(train_data_featured[\"Survived\"].values,columns=[\"Survived\"])\n",
    "X_train = train_data_featured.drop([\"Survived\"],axis=1)"
   ]
  },
  {
   "cell_type": "code",
   "execution_count": 14,
   "metadata": {},
   "outputs": [
    {
     "data": {
      "text/html": [
       "<div>\n",
       "<style scoped>\n",
       "    .dataframe tbody tr th:only-of-type {\n",
       "        vertical-align: middle;\n",
       "    }\n",
       "\n",
       "    .dataframe tbody tr th {\n",
       "        vertical-align: top;\n",
       "    }\n",
       "\n",
       "    .dataframe thead th {\n",
       "        text-align: right;\n",
       "    }\n",
       "</style>\n",
       "<table border=\"1\" class=\"dataframe\">\n",
       "  <thead>\n",
       "    <tr style=\"text-align: right;\">\n",
       "      <th></th>\n",
       "      <th>Pclass</th>\n",
       "      <th>Sex</th>\n",
       "      <th>Age</th>\n",
       "      <th>SibSp</th>\n",
       "      <th>Parch</th>\n",
       "      <th>Fare</th>\n",
       "      <th>Embarked</th>\n",
       "      <th>Family</th>\n",
       "      <th>Alone</th>\n",
       "      <th>Fare_per_person</th>\n",
       "      <th>Fare_per_person_class</th>\n",
       "      <th>Age_class</th>\n",
       "    </tr>\n",
       "  </thead>\n",
       "  <tbody>\n",
       "    <tr>\n",
       "      <th>0</th>\n",
       "      <td>3</td>\n",
       "      <td>1</td>\n",
       "      <td>22.0</td>\n",
       "      <td>1</td>\n",
       "      <td>0</td>\n",
       "      <td>7.2500</td>\n",
       "      <td>3</td>\n",
       "      <td>2</td>\n",
       "      <td>0</td>\n",
       "      <td>3.62500</td>\n",
       "      <td>0</td>\n",
       "      <td>4</td>\n",
       "    </tr>\n",
       "    <tr>\n",
       "      <th>1</th>\n",
       "      <td>1</td>\n",
       "      <td>0</td>\n",
       "      <td>38.0</td>\n",
       "      <td>1</td>\n",
       "      <td>0</td>\n",
       "      <td>71.2833</td>\n",
       "      <td>0</td>\n",
       "      <td>2</td>\n",
       "      <td>0</td>\n",
       "      <td>35.64165</td>\n",
       "      <td>6</td>\n",
       "      <td>7</td>\n",
       "    </tr>\n",
       "    <tr>\n",
       "      <th>2</th>\n",
       "      <td>3</td>\n",
       "      <td>0</td>\n",
       "      <td>26.0</td>\n",
       "      <td>0</td>\n",
       "      <td>0</td>\n",
       "      <td>7.9250</td>\n",
       "      <td>3</td>\n",
       "      <td>1</td>\n",
       "      <td>1</td>\n",
       "      <td>7.92500</td>\n",
       "      <td>1</td>\n",
       "      <td>5</td>\n",
       "    </tr>\n",
       "    <tr>\n",
       "      <th>3</th>\n",
       "      <td>1</td>\n",
       "      <td>0</td>\n",
       "      <td>35.0</td>\n",
       "      <td>1</td>\n",
       "      <td>0</td>\n",
       "      <td>53.1000</td>\n",
       "      <td>3</td>\n",
       "      <td>2</td>\n",
       "      <td>0</td>\n",
       "      <td>26.55000</td>\n",
       "      <td>5</td>\n",
       "      <td>7</td>\n",
       "    </tr>\n",
       "    <tr>\n",
       "      <th>4</th>\n",
       "      <td>3</td>\n",
       "      <td>1</td>\n",
       "      <td>35.0</td>\n",
       "      <td>0</td>\n",
       "      <td>0</td>\n",
       "      <td>8.0500</td>\n",
       "      <td>3</td>\n",
       "      <td>1</td>\n",
       "      <td>1</td>\n",
       "      <td>8.05000</td>\n",
       "      <td>1</td>\n",
       "      <td>7</td>\n",
       "    </tr>\n",
       "  </tbody>\n",
       "</table>\n",
       "</div>"
      ],
      "text/plain": [
       "   Pclass  Sex   Age  SibSp  Parch     Fare  Embarked  Family  Alone  \\\n",
       "0       3    1  22.0      1      0   7.2500         3       2      0   \n",
       "1       1    0  38.0      1      0  71.2833         0       2      0   \n",
       "2       3    0  26.0      0      0   7.9250         3       1      1   \n",
       "3       1    0  35.0      1      0  53.1000         3       2      0   \n",
       "4       3    1  35.0      0      0   8.0500         3       1      1   \n",
       "\n",
       "   Fare_per_person  Fare_per_person_class  Age_class  \n",
       "0          3.62500                      0          4  \n",
       "1         35.64165                      6          7  \n",
       "2          7.92500                      1          5  \n",
       "3         26.55000                      5          7  \n",
       "4          8.05000                      1          7  "
      ]
     },
     "execution_count": 14,
     "metadata": {},
     "output_type": "execute_result"
    }
   ],
   "source": [
    "X_train.head()"
   ]
  },
  {
   "cell_type": "code",
   "execution_count": 15,
   "metadata": {},
   "outputs": [
    {
     "data": {
      "text/html": [
       "<div>\n",
       "<style scoped>\n",
       "    .dataframe tbody tr th:only-of-type {\n",
       "        vertical-align: middle;\n",
       "    }\n",
       "\n",
       "    .dataframe tbody tr th {\n",
       "        vertical-align: top;\n",
       "    }\n",
       "\n",
       "    .dataframe thead th {\n",
       "        text-align: right;\n",
       "    }\n",
       "</style>\n",
       "<table border=\"1\" class=\"dataframe\">\n",
       "  <thead>\n",
       "    <tr style=\"text-align: right;\">\n",
       "      <th></th>\n",
       "      <th>Survived</th>\n",
       "    </tr>\n",
       "  </thead>\n",
       "  <tbody>\n",
       "    <tr>\n",
       "      <th>0</th>\n",
       "      <td>0</td>\n",
       "    </tr>\n",
       "    <tr>\n",
       "      <th>1</th>\n",
       "      <td>1</td>\n",
       "    </tr>\n",
       "    <tr>\n",
       "      <th>2</th>\n",
       "      <td>1</td>\n",
       "    </tr>\n",
       "    <tr>\n",
       "      <th>3</th>\n",
       "      <td>1</td>\n",
       "    </tr>\n",
       "    <tr>\n",
       "      <th>4</th>\n",
       "      <td>0</td>\n",
       "    </tr>\n",
       "  </tbody>\n",
       "</table>\n",
       "</div>"
      ],
      "text/plain": [
       "   Survived\n",
       "0         0\n",
       "1         1\n",
       "2         1\n",
       "3         1\n",
       "4         0"
      ]
     },
     "execution_count": 15,
     "metadata": {},
     "output_type": "execute_result"
    }
   ],
   "source": [
    "Y_train.head()"
   ]
  },
  {
   "cell_type": "markdown",
   "metadata": {},
   "source": [
    "## Random forest classifier\n",
    "*From the Kaggle tutorial*"
   ]
  },
  {
   "cell_type": "code",
   "execution_count": 16,
   "metadata": {},
   "outputs": [
    {
     "name": "stdout",
     "output_type": "stream",
     "text": [
      "% accuracy 81.59\n"
     ]
    }
   ],
   "source": [
    "features = [\"Pclass\",\"Sex\",\"SibSp\",\"Parch\"]\n",
    "X = pd.get_dummies(X_train[features])\n",
    "\n",
    "rdc = RandomForestClassifier(n_estimators = 100, max_depth=5,random_state=1)\n",
    "\n",
    "rdc.fit(X,Y_train)\n",
    "\n",
    "print(\"% accuracy\",round(rdc.score(X,Y_train)*100,2))"
   ]
  },
  {
   "cell_type": "markdown",
   "metadata": {},
   "source": [
    "*From skilearn with feature engineering*"
   ]
  },
  {
   "cell_type": "code",
   "execution_count": 21,
   "metadata": {},
   "outputs": [
    {
     "name": "stdout",
     "output_type": "stream",
     "text": [
      "% accuracy 83.84\n"
     ]
    }
   ],
   "source": [
    "features_2 = [\"Pclass\",\"Sex\",\"Family\",\"Fare_per_person_class\",\"Age_class\"]\n",
    "\n",
    "X_2 = pd.get_dummies(X_train[features_2])\n",
    "\n",
    "rdc.fit(X_2,Y_train)\n",
    "\n",
    "print(\"% accuracy\",round(rdc.score(X_2,Y_train)*100,2))"
   ]
  },
  {
   "cell_type": "markdown",
   "metadata": {},
   "source": [
    "*Random forest classifier submission*"
   ]
  },
  {
   "cell_type": "code",
   "execution_count": 22,
   "metadata": {},
   "outputs": [
    {
     "name": "stdout",
     "output_type": "stream",
     "text": [
      "Your submission was successfully saved!\n"
     ]
    }
   ],
   "source": [
    "X_test = pd.get_dummies(test_data_featured[features_2])\n",
    "predictions = rdc.predict(X_test)\n",
    "\n",
    "output = pd.DataFrame({'PassengerId':test_data.PassengerId,'Survived':predictions})\n",
    "output.to_csv(sys.path[0]+'\\datasets\\\\my_submission_random_forrest_classifier.csv',index=False)\n",
    "\n",
    "print(\"Your submission was successfully saved!\")"
   ]
  },
  {
   "cell_type": "markdown",
   "metadata": {},
   "source": [
    "### Decision tree classifier"
   ]
  },
  {
   "cell_type": "code",
   "execution_count": 23,
   "metadata": {},
   "outputs": [
    {
     "name": "stdout",
     "output_type": "stream",
     "text": [
      "% accuracy 89.23\n"
     ]
    }
   ],
   "source": [
    "dtc = DecisionTreeClassifier()\n",
    "dtc.fit(X_2,Y_train)\n",
    "\n",
    "print(\"% accuracy\",round(dtc.score(X_2,Y_train)*100,2))"
   ]
  },
  {
   "cell_type": "code",
   "execution_count": 24,
   "metadata": {},
   "outputs": [
    {
     "name": "stdout",
     "output_type": "stream",
     "text": [
      "Your submission was successfully saved!\n"
     ]
    }
   ],
   "source": [
    "X_test = pd.get_dummies(test_data_featured[features_2])\n",
    "predictions = dtc.predict(X_test)\n",
    "\n",
    "output = pd.DataFrame({'PassengerId':test_data.PassengerId,'Survived':predictions})\n",
    "output.to_csv(sys.path[0]+'\\datasets\\\\my_submission_decision_tree_classifier.csv',index=False)\n",
    "\n",
    "print(\"Your submission was successfully saved!\")"
   ]
  }
 ],
 "metadata": {
  "kernelspec": {
   "display_name": "Python 3",
   "language": "python",
   "name": "python3"
  },
  "language_info": {
   "codemirror_mode": {
    "name": "ipython",
    "version": 3
   },
   "file_extension": ".py",
   "mimetype": "text/x-python",
   "name": "python",
   "nbconvert_exporter": "python",
   "pygments_lexer": "ipython3",
   "version": "3.7.7"
  }
 },
 "nbformat": 4,
 "nbformat_minor": 4
}
